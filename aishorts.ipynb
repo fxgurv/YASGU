{
  "nbformat": 4,
  "nbformat_minor": 0,
  "metadata": {
    "colab": {
      "provenance": [],
      "gpuType": "T4",
      "include_colab_link": true
    },
    "kernelspec": {
      "name": "python3",
      "display_name": "Python 3"
    },
    "language_info": {
      "name": "python"
    },
    "accelerator": "GPU"
  },
  "cells": [
    {
      "cell_type": "markdown",
      "metadata": {
        "id": "view-in-github",
        "colab_type": "text"
      },
      "source": [
        "<a href=\"https://colab.research.google.com/github/fxgurv/YASGU/blob/master/aishorts.ipynb\" target=\"_parent\"><img src=\"https://colab.research.google.com/assets/colab-badge.svg\" alt=\"Open In Colab\"/></a>"
      ]
    },
    {
      "cell_type": "code",
      "execution_count": null,
      "metadata": {
        "id": "JWFEQfnbMba8"
      },
      "outputs": [],
      "source": [
        "!pip install git+https://github.com/openai/whisper.git"
      ]
    },
    {
      "cell_type": "code",
      "source": [
        "!pip install ffmpeg-python==0.2.0"
      ],
      "metadata": {
        "id": "u7fySwMvNRmw"
      },
      "execution_count": null,
      "outputs": []
    },
    {
      "cell_type": "code",
      "source": [
        "!apt install imagemagick"
      ],
      "metadata": {
        "id": "DVspHtcTNQTS"
      },
      "execution_count": null,
      "outputs": []
    },
    {
      "cell_type": "code",
      "source": [
        "!pip install moviepy==2.0.0.dev2\n",
        "!pip install imageio==2.25.1"
      ],
      "metadata": {
        "id": "vlr5ny3y4PqZ"
      },
      "execution_count": null,
      "outputs": []
    },
    {
      "cell_type": "code",
      "source": [
        "!pip install pyttsx3"
      ],
      "metadata": {
        "id": "S3NH8zI3NS44"
      },
      "execution_count": null,
      "outputs": []
    },
    {
      "cell_type": "code",
      "source": [
        "!pip install pocketsphinx"
      ],
      "metadata": {
        "id": "6DRFo4QQOEIr"
      },
      "execution_count": null,
      "outputs": []
    },
    {
      "cell_type": "code",
      "source": [
        "!pip install -U g4f"
      ],
      "metadata": {
        "id": "LOHASzoQOGxI"
      },
      "execution_count": null,
      "outputs": []
    },
    {
      "cell_type": "code",
      "source": [
        "!pip install gTTS"
      ],
      "metadata": {
        "id": "-Bd1QT60OdgL"
      },
      "execution_count": null,
      "outputs": []
    },
    {
      "cell_type": "code",
      "source": [
        "!pip install gdown"
      ],
      "metadata": {
        "id": "NNTGbHDmSQ2m"
      },
      "execution_count": null,
      "outputs": []
    },
    {
      "cell_type": "code",
      "source": [
        "import ast\n",
        "import os\n",
        "import re\n",
        "import whisper\n",
        "import json\n",
        "import pyttsx3\n",
        "import g4f\n",
        "from gtts import gTTS\n",
        "from pocketsphinx import AudioFile\n",
        "from datetime import datetime"
      ],
      "metadata": {
        "id": "PjfQXoBqMt7B"
      },
      "execution_count": null,
      "outputs": []
    },
    {
      "cell_type": "code",
      "source": [
        "from moviepy.editor import *\n",
        "import random\n",
        "import os\n",
        "import json\n",
        "\n",
        "from moviepy.editor import TextClip, CompositeVideoClip, ColorClip\n",
        "import numpy as np\n",
        "directory_path = 'template_videos/'"
      ],
      "metadata": {
        "id": "M73Dc61iN2m5"
      },
      "execution_count": null,
      "outputs": []
    },
    {
      "cell_type": "code",
      "source": [
        "!cat /etc/ImageMagick-6/policy.xml | sed 's/none/read,write/g'> /etc/ImageMagick-6/policy.xml"
      ],
      "metadata": {
        "id": "nb3SSUHpmhI3"
      },
      "execution_count": null,
      "outputs": []
    },
    {
      "cell_type": "code",
      "source": [
        "!mkdir results\n",
        "!mkdir temp_audio\n",
        "!gdown --folder https://drive.google.com/drive/folders/1Dg-1GFfkLrTZz76zPLXHMdMVvOb54VgV"
      ],
      "metadata": {
        "id": "vM770AaISI4x"
      },
      "execution_count": null,
      "outputs": []
    },
    {
      "cell_type": "code",
      "source": [
        "def split_text_into_lines(data):\n",
        "    MaxChars = 80\n",
        "    # maxduration in seconds\n",
        "    MaxDuration = 3.0\n",
        "    # Split if nothing is spoken (gap) for these many seconds\n",
        "    MaxGap = 1.5\n",
        "\n",
        "    subtitles = []\n",
        "    line = []\n",
        "    line_duration = 0\n",
        "    line_chars = 0\n",
        "\n",
        "    for idx, word_data in enumerate(data):\n",
        "        word = word_data[\"word\"]\n",
        "        start = word_data[\"start\"]\n",
        "        end = word_data[\"end\"]\n",
        "\n",
        "        line.append(word_data)\n",
        "        line_duration += end - start\n",
        "\n",
        "        temp = \" \".join(item[\"word\"] for item in line)\n",
        "\n",
        "        # Check if adding a new word exceeds the maximum character count or duration\n",
        "        new_line_chars = len(temp)\n",
        "\n",
        "        duration_exceeded = line_duration > MaxDuration\n",
        "        chars_exceeded = new_line_chars > MaxChars\n",
        "        if idx > 0:\n",
        "            gap = word_data['start'] - data[idx - 1]['end']\n",
        "            # print (word,start,end,gap)\n",
        "            maxgap_exceeded = gap > MaxGap\n",
        "        else:\n",
        "            maxgap_exceeded = False\n",
        "\n",
        "        if duration_exceeded or chars_exceeded or maxgap_exceeded:\n",
        "            if line:\n",
        "                subtitle_line = {\n",
        "                    \"word\": \" \".join(item[\"word\"] for item in line),\n",
        "                    \"start\": line[0][\"start\"],\n",
        "                    \"end\": line[-1][\"end\"],\n",
        "                    \"textcontents\": line\n",
        "                }\n",
        "                subtitles.append(subtitle_line)\n",
        "                line = []\n",
        "                line_duration = 0\n",
        "                line_chars = 0\n",
        "\n",
        "    if line:\n",
        "        subtitle_line = {\n",
        "            \"word\": \" \".join(item[\"word\"] for item in line),\n",
        "            \"start\": line[0][\"start\"],\n",
        "            \"end\": line[-1][\"end\"],\n",
        "            \"textcontents\": line\n",
        "        }\n",
        "        subtitles.append(subtitle_line)\n",
        "\n",
        "    return subtitles"
      ],
      "metadata": {
        "id": "9ijGPrSVN8aQ"
      },
      "execution_count": null,
      "outputs": []
    },
    {
      "cell_type": "code",
      "source": [
        "def create_caption(textJSON, framesize, font=\"Candy-Beans\", fontsize=65, color='white', bgcolor='blue'):\n",
        "    wordcount = len(textJSON['textcontents'])\n",
        "    full_duration = textJSON['end'] - textJSON['start']\n",
        "\n",
        "    word_clips = []\n",
        "    xy_textclips_positions = []\n",
        "\n",
        "    x_pos = 0\n",
        "    y_pos = 800\n",
        "\n",
        "    frame_width = framesize[0]\n",
        "    frame_height = framesize[1]\n",
        "    x_buffer = frame_width * 1 / 10\n",
        "    y_buffer = frame_height * 1 / 5\n",
        "\n",
        "    space_width = \"\"\n",
        "    space_height = \"\"\n",
        "\n",
        "    for index, wordJSON in enumerate(textJSON['textcontents']):\n",
        "        duration = wordJSON['end'] - wordJSON['start']\n",
        "        word_clip = TextClip(wordJSON['word'], font=font, fontsize=fontsize, color=color).set_start(\n",
        "            textJSON['start']).set_duration(full_duration)\n",
        "        word_clip_space = TextClip(\" \", font=font, fontsize=fontsize, color=color).set_start(\n",
        "            textJSON['start']).set_duration(full_duration)\n",
        "        word_width, word_height = word_clip.size\n",
        "        space_width, space_height = word_clip_space.size\n",
        "        if x_pos + word_width + space_width > frame_width - 2 * x_buffer:\n",
        "            # Move to the next line\n",
        "            x_pos = 0\n",
        "            y_pos = y_pos + word_height + 40\n",
        "\n",
        "            # Store info of each word_clip created\n",
        "            xy_textclips_positions.append({\n",
        "                \"x_pos\": x_pos + x_buffer,\n",
        "                \"y_pos\": y_pos + y_buffer,\n",
        "                \"width\": word_width,\n",
        "                \"height\": word_height,\n",
        "                \"word\": wordJSON['word'],\n",
        "                \"start\": wordJSON['start'],\n",
        "                \"end\": wordJSON['end'],\n",
        "                \"duration\": duration\n",
        "            })\n",
        "\n",
        "            word_clip = word_clip.set_position((x_pos + x_buffer, y_pos + y_buffer))\n",
        "            word_clip_space = word_clip_space.set_position((x_pos + word_width + x_buffer, y_pos + y_buffer))\n",
        "            x_pos = word_width + space_width\n",
        "        else:\n",
        "            # Store info of each word_clip created\n",
        "            xy_textclips_positions.append({\n",
        "                \"x_pos\": x_pos + x_buffer,\n",
        "                \"y_pos\": y_pos + y_buffer,\n",
        "                \"width\": word_width,\n",
        "                \"height\": word_height,\n",
        "                \"word\": wordJSON['word'],\n",
        "                \"start\": wordJSON['start'],\n",
        "                \"end\": wordJSON['end'],\n",
        "                \"duration\": duration\n",
        "            })\n",
        "\n",
        "            word_clip = word_clip.set_position((x_pos + x_buffer, y_pos + y_buffer))\n",
        "            word_clip_space = word_clip_space.set_position((x_pos + word_width + x_buffer, y_pos + y_buffer))\n",
        "\n",
        "            x_pos = x_pos + word_width + space_width\n",
        "\n",
        "        word_clips.append(word_clip)\n",
        "        word_clips.append(word_clip_space)\n",
        "\n",
        "    for highlight_word in xy_textclips_positions:\n",
        "        word_clip_highlight = TextClip(highlight_word['word'], font=font, fontsize=fontsize, color='LightGreen').set_start(highlight_word['start']).set_duration(\n",
        "            highlight_word['duration'])\n",
        "        word_clip_highlight = word_clip_highlight.set_position((highlight_word['x_pos'], highlight_word['y_pos']))\n",
        "        word_clips.append(word_clip_highlight)\n",
        "\n",
        "    return word_clips"
      ],
      "metadata": {
        "id": "uZz3R3l8O8b6"
      },
      "execution_count": null,
      "outputs": []
    },
    {
      "cell_type": "code",
      "source": [
        "def new_video(audioPath, fileName):\n",
        "    frame_size = (1080, 1920)\n",
        "    with open(f'{audioPath}.json', 'r') as f:\n",
        "        wordlevel_info_modified = json.load(f)\n",
        "\n",
        "    linelevel_subtitles = split_text_into_lines(wordlevel_info_modified)\n",
        "\n",
        "    all_linelevel_splits = []\n",
        "\n",
        "    for line in linelevel_subtitles:\n",
        "        out = create_caption(line, frame_size)\n",
        "        all_linelevel_splits.extend(out)\n",
        "\n",
        "    files = os.listdir(directory_path)\n",
        "    random_file = random.choice(files)\n",
        "    random_file_path = os.path.join(directory_path, random_file)\n",
        "\n",
        "    video_path = random_file_path\n",
        "    audio_path = f'{audioPath}.mp3'\n",
        "\n",
        "    video_clip = VideoFileClip(video_path).fx(afx.audio_normalize)\n",
        "    video_clip.audio = video_clip.audio.volumex(0.04)\n",
        "    audio_clip = AudioFileClip(audio_path).volumex(1.25)\n",
        "\n",
        "    video_start_time = random.uniform(0, video_clip.duration - audio_clip.duration)\n",
        "\n",
        "    video_clip = video_clip.subclip(video_start_time, video_start_time + audio_clip.duration)\n",
        "\n",
        "    new_audioclip = CompositeAudioClip([audio_clip, video_clip.audio])\n",
        "    video_clip.audio = new_audioclip\n",
        "\n",
        "    video_clip = CompositeVideoClip([video_clip] + all_linelevel_splits)\n",
        "\n",
        "    output_path = f'results/{fileName}.mp4'\n",
        "    video_clip.write_videofile(output_path, codec='libx264')\n",
        "\n",
        "    # Zwolnij zasoby\n",
        "    video_clip.close()\n",
        "    audio_clip.close()"
      ],
      "metadata": {
        "id": "x0S4nJUhO_K8"
      },
      "execution_count": null,
      "outputs": []
    },
    {
      "cell_type": "code",
      "source": [
        "def extract_tale_from_string(text):\n",
        "    return ast.literal_eval(re.search('({.+})', text).group(0))"
      ],
      "metadata": {
        "id": "_4y58wIsPBxv"
      },
      "execution_count": null,
      "outputs": []
    },
    {
      "cell_type": "code",
      "source": [
        "g4f.debug.logging = True # enable logging\n",
        "g4f.check_version = False # Disable automatic version checking\n",
        "print(g4f.version) # check version\n",
        "print(g4f.Provider.Ails.params)  # supported args\n",
        "\n",
        "# Automatic selection of provider\n",
        "language = 'en'\n",
        "\n",
        "n = 3"
      ],
      "metadata": {
        "id": "7C-Dofy3PDrn"
      },
      "execution_count": null,
      "outputs": []
    },
    {
      "cell_type": "code",
      "source": [
        "from g4f.Provider import (\n",
        "    AItianhu,\n",
        "    Aichat,\n",
        "    Bard,\n",
        "    Bing,\n",
        "    ChatBase,\n",
        "    ChatgptAi,\n",
        "    OpenaiChat,\n",
        "    Vercel,\n",
        "    You,\n",
        "    Yqcloud,\n",
        ")"
      ],
      "metadata": {
        "id": "jKGa1cchVPF9"
      },
      "execution_count": null,
      "outputs": []
    },
    {
      "cell_type": "code",
      "source": [
        "for i in range(n):\n",
        "  response = g4f.ChatCompletion.create(\n",
        "      model=\"gpt-3.5-turbo\",\n",
        "      provider=\tg4f.Provider.GptGo,\n",
        "      temperature=0.9,\n",
        "      messages=[{\"role\": \"user\",\n",
        "                \"content\": \"tell a viral 420 chars dark viral joke (random) about mother with unexpected plot twist in exactly format!!! (without anything more): {'title' : 'Title of Tale', 'content' : 'Tale'}\"}]\n",
        "  )\n",
        "  for message in response:\n",
        "      print(message, flush=True, end='')\n",
        "\n",
        "  response = extract_tale_from_string(\"\".join(str(a) for a in response))\n",
        "\n",
        "\n",
        "  myobj = gTTS(text=response['content'], lang=language, tld='us')\n",
        "  now = datetime.now()\n",
        "\n",
        "  myobj.save(f\"temp_audio/{response['title']}.mp3\")\n",
        "\n",
        "  model = whisper.load_model(\"medium\")\n",
        "  result = model.transcribe(f\"temp_audio/{response['title']}.mp3\", word_timestamps=True)\n",
        "\n",
        "  wordlevel_info = []\n",
        "\n",
        "  for each in result['segments']:\n",
        "      words = each['words']\n",
        "      for word in words:\n",
        "          # print (word['word'], \"  \",word['start'],\" - \",word['end'])\n",
        "          wordlevel_info.append({'word': word['word'].strip(), 'start': word['start'], 'end': word['end']})\n",
        "\n",
        "  with open(f\"temp_audio/{response['title']}.json\", 'w') as f:\n",
        "      json.dump(wordlevel_info, f, indent=4)\n",
        "\n",
        "  new_video(f\"temp_audio/{response['title']}\", f\"{response['title']}\")"
      ],
      "metadata": {
        "id": "uk45wyJoPGZH"
      },
      "execution_count": null,
      "outputs": []
    }
  ]
}